{
 "cells": [
  {
   "cell_type": "code",
   "execution_count": null,
   "metadata": {},
   "outputs": [],
   "source": [
    "! git clone https://github.com/cborau/im2mesh.git"
   ]
  },
  {
   "cell_type": "code",
   "execution_count": null,
   "metadata": {},
   "outputs": [],
   "source": [
    "%cd im2mesh\n",
    "# you have to manually change in requirements.txt: open3d==0.15.1 to open3d==0.17.0\n",
    "! pip install -r requirements.txt \n"
   ]
  },
  {
   "cell_type": "code",
   "execution_count": null,
   "metadata": {},
   "outputs": [],
   "source": [
    "! apt-get install libglu1-mesa # this is one dependency needed to be able to run im2mesh in colab"
   ]
  },
  {
   "cell_type": "code",
   "execution_count": null,
   "metadata": {},
   "outputs": [],
   "source": [
    "# Make sure to always expect this to be segmented 2D images of one object from all angles (up, down, left and right)\n",
    "# We were able to generate decent results just by having 2 images.\n",
    "\n",
    "! python main.py -b --path \"segmented_images_path\" --format \"image\" --n_interp 5 --mask_id 0 --smooth_slices  --target_faces 50000 --sampling_factor 0.1 --min_mesh_size 5.0 --max_mesh_size 5.0 --output_dir \"output_dir\" --export_vtk --laplacian_smoothing"
   ]
  },
  {
   "cell_type": "code",
   "execution_count": null,
   "metadata": {},
   "outputs": [],
   "source": [
    "# Once done you can use visualize_3d.py to visualize the 3D object file with extension .stl using vtk library"
   ]
  }
 ],
 "metadata": {
  "language_info": {
   "name": "python"
  }
 },
 "nbformat": 4,
 "nbformat_minor": 2
}
